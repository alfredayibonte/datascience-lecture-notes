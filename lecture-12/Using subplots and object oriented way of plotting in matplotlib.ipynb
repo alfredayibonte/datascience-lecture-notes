{
 "cells": [
  {
   "cell_type": "code",
   "execution_count": 1,
   "metadata": {},
   "outputs": [],
   "source": [
    "import numpy as np\n",
    "import matplotlib.pyplot as plt"
   ]
  },
  {
   "cell_type": "code",
   "execution_count": 2,
   "metadata": {},
   "outputs": [],
   "source": [
    "X = np.arange(0, 361)"
   ]
  },
  {
   "cell_type": "code",
   "execution_count": 3,
   "metadata": {},
   "outputs": [],
   "source": [
    "x_radian = np.radians(X)"
   ]
  },
  {
   "cell_type": "code",
   "execution_count": 4,
   "metadata": {},
   "outputs": [],
   "source": [
    "sin_y = np.sin(x_radian)"
   ]
  },
  {
   "cell_type": "code",
   "execution_count": 5,
   "metadata": {},
   "outputs": [],
   "source": [
    "cos_y = np.cos(x_radian)"
   ]
  },
  {
   "cell_type": "code",
   "execution_count": 6,
   "metadata": {},
   "outputs": [],
   "source": [
    "tan_y = np.tan(x_radian)"
   ]
  },
  {
   "cell_type": "code",
   "execution_count": 7,
   "metadata": {},
   "outputs": [],
   "source": [
    "sin_sq = np.power(sin_y, 2)"
   ]
  },
  {
   "cell_type": "code",
   "execution_count": 10,
   "metadata": {},
   "outputs": [
    {
     "data": {
      "image/png": "[encoded data removed]",
      "text/plain": [
       "<Figure size 432x288 with 4 Axes>"
      ]
     },
     "metadata": {
      "needs_background": "light"
     },
     "output_type": "display_data"
    }
   ],
   "source": [
    "fig, axes = plt.subplots(2, 2)"
   ]
  },
  {
   "cell_type": "code",
   "execution_count": 11,
   "metadata": {},
   "outputs": [],
   "source": [
    "((a, b), (c, d)) = axes"
   ]
  },
  {
   "cell_type": "code",
   "execution_count": 12,
   "metadata": {},
   "outputs": [
    {
     "data": {
      "text/plain": [
       "Text(0.5, 1.0, 'Sine Graph')"
      ]
     },
     "execution_count": 12,
     "metadata": {},
     "output_type": "execute_result"
    }
   ],
   "source": [
    "a.set_title('Sine Graph')"
   ]
  },
  {
   "cell_type": "code",
   "execution_count": 13,
   "metadata": {},
   "outputs": [
    {
     "data": {
      "text/plain": [
       "Text(3.200000000000003, 0.5, 'Sine')"
      ]
     },
     "execution_count": 13,
     "metadata": {},
     "output_type": "execute_result"
    }
   ],
   "source": [
    "a.set_ylabel('Sine')"
   ]
  },
  {
   "cell_type": "code",
   "execution_count": 14,
   "metadata": {},
   "outputs": [
    {
     "data": {
      "text/plain": [
       "Text(0.5, 121.80363636363634, 'Radians')"
      ]
     },
     "execution_count": 14,
     "metadata": {},
     "output_type": "execute_result"
    }
   ],
   "source": [
    "a.set_xlabel('Radians')"
   ]
  },
  {
   "cell_type": "code",
   "execution_count": 15,
   "metadata": {},
   "outputs": [
    {
     "data": {
      "text/plain": [
       "Text(0.5, 1.0, 'Cos Graph')"
      ]
     },
     "execution_count": 15,
     "metadata": {},
     "output_type": "execute_result"
    }
   ],
   "source": [
    "b.set_title('Cos Graph')"
   ]
  },
  {
   "cell_type": "code",
   "execution_count": 16,
   "metadata": {},
   "outputs": [
    {
     "data": {
      "text/plain": [
       "Text(185.81818181818176, 0.5, 'Cosine')"
      ]
     },
     "execution_count": 16,
     "metadata": {},
     "output_type": "execute_result"
    }
   ],
   "source": [
    "b.set_ylabel('Cosine')"
   ]
  },
  {
   "cell_type": "code",
   "execution_count": 17,
   "metadata": {},
   "outputs": [
    {
     "data": {
      "text/plain": [
       "Text(0.5, 121.80363636363634, 'Radians')"
      ]
     },
     "execution_count": 17,
     "metadata": {},
     "output_type": "execute_result"
    }
   ],
   "source": [
    "b.set_xlabel('Radians')"
   ]
  },
  {
   "cell_type": "code",
   "execution_count": 18,
   "metadata": {},
   "outputs": [
    {
     "data": {
      "text/plain": [
       "Text(0.5, 1.0, 'Tan Curve')"
      ]
     },
     "execution_count": 18,
     "metadata": {},
     "output_type": "execute_result"
    }
   ],
   "source": [
    "c.set_title('Tan Curve')"
   ]
  },
  {
   "cell_type": "code",
   "execution_count": 19,
   "metadata": {},
   "outputs": [
    {
     "data": {
      "text/plain": [
       "Text(3.200000000000003, 0.5, 'Tan')"
      ]
     },
     "execution_count": 19,
     "metadata": {},
     "output_type": "execute_result"
    }
   ],
   "source": [
    "c.set_ylabel('Tan')"
   ]
  },
  {
   "cell_type": "code",
   "execution_count": 20,
   "metadata": {},
   "outputs": [
    {
     "data": {
      "text/plain": [
       "Text(0.5, 3.200000000000003, 'Radians')"
      ]
     },
     "execution_count": 20,
     "metadata": {},
     "output_type": "execute_result"
    }
   ],
   "source": [
    "c.set_xlabel('Radians')"
   ]
  },
  {
   "cell_type": "code",
   "execution_count": 21,
   "metadata": {},
   "outputs": [
    {
     "data": {
      "text/plain": [
       "Text(0.5, 1.0, 'Sine squared curve')"
      ]
     },
     "execution_count": 21,
     "metadata": {},
     "output_type": "execute_result"
    }
   ],
   "source": [
    "d.set_title('Sine squared curve')"
   ]
  },
  {
   "cell_type": "code",
   "execution_count": 22,
   "metadata": {},
   "outputs": [
    {
     "data": {
      "text/plain": [
       "Text(185.81818181818176, 0.5, 'Sine Squared')"
      ]
     },
     "execution_count": 22,
     "metadata": {},
     "output_type": "execute_result"
    }
   ],
   "source": [
    "d.set_ylabel('Sine Squared')"
   ]
  },
  {
   "cell_type": "code",
   "execution_count": 23,
   "metadata": {},
   "outputs": [
    {
     "data": {
      "text/plain": [
       "Text(0.5, 3.200000000000003, 'Radians')"
      ]
     },
     "execution_count": 23,
     "metadata": {},
     "output_type": "execute_result"
    }
   ],
   "source": [
    "d.set_xlabel('Radians')"
   ]
  },
  {
   "cell_type": "code",
   "execution_count": 24,
   "metadata": {},
   "outputs": [
    {
     "data": {
      "text/plain": [
       "[<matplotlib.lines.Line2D at 0x7f1388089430>]"
      ]
     },
     "execution_count": 24,
     "metadata": {},
     "output_type": "execute_result"
    }
   ],
   "source": [
    "a.plot(x_radian, sin_y)"
   ]
  },
  {
   "cell_type": "code",
   "execution_count": 25,
   "metadata": {},
   "outputs": [
    {
     "data": {
      "text/plain": [
       "[<matplotlib.lines.Line2D at 0x7f13882180a0>]"
      ]
     },
     "execution_count": 25,
     "metadata": {},
     "output_type": "execute_result"
    }
   ],
   "source": [
    "b.plot(x_radian, cos_y)"
   ]
  },
  {
   "cell_type": "code",
   "execution_count": 28,
   "metadata": {},
   "outputs": [
    {
     "data": {
      "text/plain": [
       "[<matplotlib.lines.Line2D at 0x7f1387637ac0>]"
      ]
     },
     "execution_count": 28,
     "metadata": {},
     "output_type": "execute_result"
    }
   ],
   "source": [
    "c.plot(x_radian, tan_y)"
   ]
  },
  {
   "cell_type": "code",
   "execution_count": 29,
   "metadata": {},
   "outputs": [
    {
     "data": {
      "text/plain": [
       "[<matplotlib.lines.Line2D at 0x7f1388145c40>]"
      ]
     },
     "execution_count": 29,
     "metadata": {},
     "output_type": "execute_result"
    }
   ],
   "source": [
    "d.plot(x_radian, sin_sq)"
   ]
  },
  {
   "cell_type": "code",
   "execution_count": 30,
   "metadata": {},
   "outputs": [
    {
     "data": {
      "image/png": "[encoded data removed]",
      "text/plain": [
       "<Figure size 432x288 with 4 Axes>"
      ]
     },
     "execution_count": 30,
     "metadata": {},
     "output_type": "execute_result"
    }
   ],
   "source": [
    "fig"
   ]
  },
  {
   "cell_type": "code",
   "execution_count": 1,
   "metadata": {},
   "outputs": [],
   "source": [
    "import matplotlib.pyplot as plt"
   ]
  },
  {
   "cell_type": "code",
   "execution_count": 2,
   "metadata": {},
   "outputs": [
    {
     "data": {
      "image/png": "[encoded data removed]",
      "text/plain": [
       "<Figure size 432x288 with 2 Axes>"
      ]
     },
     "metadata": {
      "needs_background": "light"
     },
     "output_type": "display_data"
    }
   ],
   "source": [
    "fig, ax = plt.subplots(1, 2)"
   ]
  },
  {
   "cell_type": "code",
   "execution_count": 3,
   "metadata": {},
   "outputs": [],
   "source": [
    "(e, f) = ax"
   ]
  },
  {
   "cell_type": "code",
   "execution_count": 4,
   "metadata": {},
   "outputs": [
    {
     "data": {
      "text/plain": [
       "Text(0.5, 1.0, 'First Graph')"
      ]
     },
     "execution_count": 4,
     "metadata": {},
     "output_type": "execute_result"
    }
   ],
   "source": [
    "e.set_title('First Graph')"
   ]
  },
  {
   "cell_type": "code",
   "execution_count": 5,
   "metadata": {},
   "outputs": [
    {
     "data": {
      "text/plain": [
       "Text(0.5, 1.0, 'second graph')"
      ]
     },
     "execution_count": 5,
     "metadata": {},
     "output_type": "execute_result"
    }
   ],
   "source": [
    "f.set_title('second graph')"
   ]
  },
  {
   "cell_type": "code",
   "execution_count": 6,
   "metadata": {},
   "outputs": [
    {
     "data": {
      "image/png": "[encoded data removed]",
      "text/plain": [
       "<Figure size 432x288 with 2 Axes>"
      ]
     },
     "execution_count": 6,
     "metadata": {},
     "output_type": "execute_result"
    }
   ],
   "source": [
    "fig"
   ]
  },
  {
   "cell_type": "code",
   "execution_count": 7,
   "metadata": {},
   "outputs": [
    {
     "data": {
      "text/plain": [
       "Text(0.5, 3.1999999999999993, 'ages')"
      ]
     },
     "execution_count": 7,
     "metadata": {},
     "output_type": "execute_result"
    }
   ],
   "source": [
    "e.set_xlabel('ages')"
   ]
  },
  {
   "cell_type": "code",
   "execution_count": 8,
   "metadata": {},
   "outputs": [
    {
     "data": {
      "text/plain": [
       "Text(3.200000000000003, 0.5, 'incomes')"
      ]
     },
     "execution_count": 8,
     "metadata": {},
     "output_type": "execute_result"
    }
   ],
   "source": [
    "e.set_ylabel('incomes')"
   ]
  },
  {
   "cell_type": "code",
   "execution_count": 9,
   "metadata": {},
   "outputs": [
    {
     "data": {
      "text/plain": [
       "Text(0.5, 3.1999999999999993, 'ages')"
      ]
     },
     "execution_count": 9,
     "metadata": {},
     "output_type": "execute_result"
    }
   ],
   "source": [
    "f.set_xlabel('ages')"
   ]
  },
  {
   "cell_type": "code",
   "execution_count": 10,
   "metadata": {},
   "outputs": [
    {
     "data": {
      "text/plain": [
       "Text(185.81818181818176, 0.5, 'taxes')"
      ]
     },
     "execution_count": 10,
     "metadata": {},
     "output_type": "execute_result"
    }
   ],
   "source": [
    "f.set_ylabel('taxes')"
   ]
  },
  {
   "cell_type": "code",
   "execution_count": 11,
   "metadata": {},
   "outputs": [
    {
     "data": {
      "image/png": "[encoded data removed]",
      "text/plain": [
       "<Figure size 432x288 with 2 Axes>"
      ]
     },
     "execution_count": 11,
     "metadata": {},
     "output_type": "execute_result"
    }
   ],
   "source": [
    "fig"
   ]
  },
  {
   "cell_type": "code",
   "execution_count": 12,
   "metadata": {},
   "outputs": [],
   "source": [
    "import numpy as np"
   ]
  },
  {
   "cell_type": "code",
   "execution_count": 13,
   "metadata": {},
   "outputs": [],
   "source": [
    "x = np.arange(0, 200)"
   ]
  },
  {
   "cell_type": "code",
   "execution_count": 20,
   "metadata": {},
   "outputs": [],
   "source": [
    "x1 = np.linspace(0, 100, 10)"
   ]
  },
  {
   "cell_type": "code",
   "execution_count": 22,
   "metadata": {},
   "outputs": [],
   "source": [
    "y = np.square(x)"
   ]
  },
  {
   "cell_type": "code",
   "execution_count": 23,
   "metadata": {},
   "outputs": [
    {
     "data": {
      "text/plain": [
       "array([    0,     1,     4,     9,    16,    25,    36,    49,    64,\n",
       "          81,   100,   121,   144,   169,   196,   225,   256,   289,\n",
       "         324,   361,   400,   441,   484,   529,   576,   625,   676,\n",
       "         729,   784,   841,   900,   961,  1024,  1089,  1156,  1225,\n",
       "        1296,  1369,  1444,  1521,  1600,  1681,  1764,  1849,  1936,\n",
       "        2025,  2116,  2209,  2304,  2401,  2500,  2601,  2704,  2809,\n",
       "        2916,  3025,  3136,  3249,  3364,  3481,  3600,  3721,  3844,\n",
       "        3969,  4096,  4225,  4356,  4489,  4624,  4761,  4900,  5041,\n",
       "        5184,  5329,  5476,  5625,  5776,  5929,  6084,  6241,  6400,\n",
       "        6561,  6724,  6889,  7056,  7225,  7396,  7569,  7744,  7921,\n",
       "        8100,  8281,  8464,  8649,  8836,  9025,  9216,  9409,  9604,\n",
       "        9801, 10000, 10201, 10404, 10609, 10816, 11025, 11236, 11449,\n",
       "       11664, 11881, 12100, 12321, 12544, 12769, 12996, 13225, 13456,\n",
       "       13689, 13924, 14161, 14400, 14641, 14884, 15129, 15376, 15625,\n",
       "       15876, 16129, 16384, 16641, 16900, 17161, 17424, 17689, 17956,\n",
       "       18225, 18496, 18769, 19044, 19321, 19600, 19881, 20164, 20449,\n",
       "       20736, 21025, 21316, 21609, 21904, 22201, 22500, 22801, 23104,\n",
       "       23409, 23716, 24025, 24336, 24649, 24964, 25281, 25600, 25921,\n",
       "       26244, 26569, 26896, 27225, 27556, 27889, 28224, 28561, 28900,\n",
       "       29241, 29584, 29929, 30276, 30625, 30976, 31329, 31684, 32041,\n",
       "       32400, 32761, 33124, 33489, 33856, 34225, 34596, 34969, 35344,\n",
       "       35721, 36100, 36481, 36864, 37249, 37636, 38025, 38416, 38809,\n",
       "       39204, 39601])"
      ]
     },
     "execution_count": 23,
     "metadata": {},
     "output_type": "execute_result"
    }
   ],
   "source": [
    "y"
   ]
  },
  {
   "cell_type": "code",
   "execution_count": 24,
   "metadata": {},
   "outputs": [
    {
     "data": {
      "text/plain": [
       "[<matplotlib.lines.Line2D at 0x7f3f24cd0af0>]"
      ]
     },
     "execution_count": 24,
     "metadata": {},
     "output_type": "execute_result"
    }
   ],
   "source": [
    "e.plot(x, y)"
   ]
  },
  {
   "cell_type": "code",
   "execution_count": 25,
   "metadata": {},
   "outputs": [
    {
     "data": {
      "image/png": "[encoded data removed]",
      "text/plain": [
       "<Figure size 432x288 with 2 Axes>"
      ]
     },
     "execution_count": 25,
     "metadata": {},
     "output_type": "execute_result"
    }
   ],
   "source": [
    "fig"
   ]
  },
  {
   "cell_type": "code",
   "execution_count": 26,
   "metadata": {},
   "outputs": [],
   "source": [
    "import pandas as pd"
   ]
  },
  {
   "cell_type": "code",
   "execution_count": 29,
   "metadata": {},
   "outputs": [],
   "source": [
    "df = pd.DataFrame(data={'x': x, 'y': y})"
   ]
  },
  {
   "cell_type": "code",
   "execution_count": 31,
   "metadata": {},
   "outputs": [
    {
     "data": {
      "text/html": [
       "<div>\n",
       "<style scoped>\n",
       "    .dataframe tbody tr th:only-of-type {\n",
       "        vertical-align: middle;\n",
       "    }\n",
       "\n",
       "    .dataframe tbody tr th {\n",
       "        vertical-align: top;\n",
       "    }\n",
       "\n",
       "    .dataframe thead th {\n",
       "        text-align: right;\n",
       "    }\n",
       "</style>\n",
       "<table border=\"1\" class=\"dataframe\">\n",
       "  <thead>\n",
       "    <tr style=\"text-align: right;\">\n",
       "      <th></th>\n",
       "      <th>x</th>\n",
       "      <th>y</th>\n",
       "    </tr>\n",
       "  </thead>\n",
       "  <tbody>\n",
       "    <tr>\n",
       "      <th>0</th>\n",
       "      <td>0</td>\n",
       "      <td>0</td>\n",
       "    </tr>\n",
       "    <tr>\n",
       "      <th>1</th>\n",
       "      <td>1</td>\n",
       "      <td>1</td>\n",
       "    </tr>\n",
       "    <tr>\n",
       "      <th>2</th>\n",
       "      <td>2</td>\n",
       "      <td>4</td>\n",
       "    </tr>\n",
       "    <tr>\n",
       "      <th>3</th>\n",
       "      <td>3</td>\n",
       "      <td>9</td>\n",
       "    </tr>\n",
       "    <tr>\n",
       "      <th>4</th>\n",
       "      <td>4</td>\n",
       "      <td>16</td>\n",
       "    </tr>\n",
       "  </tbody>\n",
       "</table>\n",
       "</div>"
      ],
      "text/plain": [
       "   x   y\n",
       "0  0   0\n",
       "1  1   1\n",
       "2  2   4\n",
       "3  3   9\n",
       "4  4  16"
      ]
     },
     "execution_count": 31,
     "metadata": {},
     "output_type": "execute_result"
    }
   ],
   "source": [
    "df.head()"
   ]
  },
  {
   "cell_type": "code",
   "execution_count": 32,
   "metadata": {},
   "outputs": [
    {
     "data": {
      "text/html": [
       "<div>\n",
       "<style scoped>\n",
       "    .dataframe tbody tr th:only-of-type {\n",
       "        vertical-align: middle;\n",
       "    }\n",
       "\n",
       "    .dataframe tbody tr th {\n",
       "        vertical-align: top;\n",
       "    }\n",
       "\n",
       "    .dataframe thead th {\n",
       "        text-align: right;\n",
       "    }\n",
       "</style>\n",
       "<table border=\"1\" class=\"dataframe\">\n",
       "  <thead>\n",
       "    <tr style=\"text-align: right;\">\n",
       "      <th></th>\n",
       "      <th>x</th>\n",
       "      <th>y</th>\n",
       "    </tr>\n",
       "  </thead>\n",
       "  <tbody>\n",
       "    <tr>\n",
       "      <th>0</th>\n",
       "      <td>0</td>\n",
       "      <td>0</td>\n",
       "    </tr>\n",
       "    <tr>\n",
       "      <th>1</th>\n",
       "      <td>1</td>\n",
       "      <td>1</td>\n",
       "    </tr>\n",
       "    <tr>\n",
       "      <th>2</th>\n",
       "      <td>2</td>\n",
       "      <td>4</td>\n",
       "    </tr>\n",
       "    <tr>\n",
       "      <th>3</th>\n",
       "      <td>3</td>\n",
       "      <td>9</td>\n",
       "    </tr>\n",
       "    <tr>\n",
       "      <th>4</th>\n",
       "      <td>4</td>\n",
       "      <td>16</td>\n",
       "    </tr>\n",
       "    <tr>\n",
       "      <th>...</th>\n",
       "      <td>...</td>\n",
       "      <td>...</td>\n",
       "    </tr>\n",
       "    <tr>\n",
       "      <th>195</th>\n",
       "      <td>195</td>\n",
       "      <td>38025</td>\n",
       "    </tr>\n",
       "    <tr>\n",
       "      <th>196</th>\n",
       "      <td>196</td>\n",
       "      <td>38416</td>\n",
       "    </tr>\n",
       "    <tr>\n",
       "      <th>197</th>\n",
       "      <td>197</td>\n",
       "      <td>38809</td>\n",
       "    </tr>\n",
       "    <tr>\n",
       "      <th>198</th>\n",
       "      <td>198</td>\n",
       "      <td>39204</td>\n",
       "    </tr>\n",
       "    <tr>\n",
       "      <th>199</th>\n",
       "      <td>199</td>\n",
       "      <td>39601</td>\n",
       "    </tr>\n",
       "  </tbody>\n",
       "</table>\n",
       "<p>200 rows × 2 columns</p>\n",
       "</div>"
      ],
      "text/plain": [
       "       x      y\n",
       "0      0      0\n",
       "1      1      1\n",
       "2      2      4\n",
       "3      3      9\n",
       "4      4     16\n",
       "..   ...    ...\n",
       "195  195  38025\n",
       "196  196  38416\n",
       "197  197  38809\n",
       "198  198  39204\n",
       "199  199  39601\n",
       "\n",
       "[200 rows x 2 columns]"
      ]
     },
     "execution_count": 32,
     "metadata": {},
     "output_type": "execute_result"
    }
   ],
   "source": [
    "df"
   ]
  },
  {
   "cell_type": "code",
   "execution_count": 33,
   "metadata": {},
   "outputs": [
    {
     "data": {
      "text/html": [
       "<div>\n",
       "<style scoped>\n",
       "    .dataframe tbody tr th:only-of-type {\n",
       "        vertical-align: middle;\n",
       "    }\n",
       "\n",
       "    .dataframe tbody tr th {\n",
       "        vertical-align: top;\n",
       "    }\n",
       "\n",
       "    .dataframe thead th {\n",
       "        text-align: right;\n",
       "    }\n",
       "</style>\n",
       "<table border=\"1\" class=\"dataframe\">\n",
       "  <thead>\n",
       "    <tr style=\"text-align: right;\">\n",
       "      <th></th>\n",
       "      <th>x</th>\n",
       "      <th>y</th>\n",
       "    </tr>\n",
       "  </thead>\n",
       "  <tbody>\n",
       "    <tr>\n",
       "      <th>count</th>\n",
       "      <td>200.000000</td>\n",
       "      <td>200.000000</td>\n",
       "    </tr>\n",
       "    <tr>\n",
       "      <th>mean</th>\n",
       "      <td>99.500000</td>\n",
       "      <td>13233.500000</td>\n",
       "    </tr>\n",
       "    <tr>\n",
       "      <th>std</th>\n",
       "      <td>57.879185</td>\n",
       "      <td>11899.402926</td>\n",
       "    </tr>\n",
       "    <tr>\n",
       "      <th>min</th>\n",
       "      <td>0.000000</td>\n",
       "      <td>0.000000</td>\n",
       "    </tr>\n",
       "    <tr>\n",
       "      <th>25%</th>\n",
       "      <td>49.750000</td>\n",
       "      <td>2475.250000</td>\n",
       "    </tr>\n",
       "    <tr>\n",
       "      <th>50%</th>\n",
       "      <td>99.500000</td>\n",
       "      <td>9900.500000</td>\n",
       "    </tr>\n",
       "    <tr>\n",
       "      <th>75%</th>\n",
       "      <td>149.250000</td>\n",
       "      <td>22275.750000</td>\n",
       "    </tr>\n",
       "    <tr>\n",
       "      <th>max</th>\n",
       "      <td>199.000000</td>\n",
       "      <td>39601.000000</td>\n",
       "    </tr>\n",
       "  </tbody>\n",
       "</table>\n",
       "</div>"
      ],
      "text/plain": [
       "                x             y\n",
       "count  200.000000    200.000000\n",
       "mean    99.500000  13233.500000\n",
       "std     57.879185  11899.402926\n",
       "min      0.000000      0.000000\n",
       "25%     49.750000   2475.250000\n",
       "50%     99.500000   9900.500000\n",
       "75%    149.250000  22275.750000\n",
       "max    199.000000  39601.000000"
      ]
     },
     "execution_count": 33,
     "metadata": {},
     "output_type": "execute_result"
    }
   ],
   "source": [
    "df.describe()"
   ]
  },
  {
   "cell_type": "code",
   "execution_count": 34,
   "metadata": {},
   "outputs": [
    {
     "data": {
      "text/plain": [
       "{'whiskers': [<matplotlib.lines.Line2D at 0x7f3f21210820>,\n",
       "  <matplotlib.lines.Line2D at 0x7f3f215268e0>],\n",
       " 'caps': [<matplotlib.lines.Line2D at 0x7f3f21f9e040>,\n",
       "  <matplotlib.lines.Line2D at 0x7f3f21f9e3a0>],\n",
       " 'boxes': [<matplotlib.lines.Line2D at 0x7f3f21fbcf70>],\n",
       " 'medians': [<matplotlib.lines.Line2D at 0x7f3f21f9e6d0>],\n",
       " 'fliers': [<matplotlib.lines.Line2D at 0x7f3f21f9ea30>],\n",
       " 'means': []}"
      ]
     },
     "execution_count": 34,
     "metadata": {},
     "output_type": "execute_result"
    }
   ],
   "source": [
    "f.boxplot(y)"
   ]
  },
  {
   "cell_type": "code",
   "execution_count": 35,
   "metadata": {},
   "outputs": [
    {
     "data": {
      "image/png": "[encoded data removed]",
      "text/plain": [
       "<Figure size 432x288 with 2 Axes>"
      ]
     },
     "execution_count": 35,
     "metadata": {},
     "output_type": "execute_result"
    }
   ],
   "source": [
    "fig"
   ]
  },
  {
   "cell_type": "code",
   "execution_count": 36,
   "metadata": {},
   "outputs": [
    {
     "data": {
      "text/html": [
       "<div>\n",
       "<style scoped>\n",
       "    .dataframe tbody tr th:only-of-type {\n",
       "        vertical-align: middle;\n",
       "    }\n",
       "\n",
       "    .dataframe tbody tr th {\n",
       "        vertical-align: top;\n",
       "    }\n",
       "\n",
       "    .dataframe thead th {\n",
       "        text-align: right;\n",
       "    }\n",
       "</style>\n",
       "<table border=\"1\" class=\"dataframe\">\n",
       "  <thead>\n",
       "    <tr style=\"text-align: right;\">\n",
       "      <th></th>\n",
       "      <th>x</th>\n",
       "      <th>y</th>\n",
       "    </tr>\n",
       "  </thead>\n",
       "  <tbody>\n",
       "    <tr>\n",
       "      <th>197</th>\n",
       "      <td>197</td>\n",
       "      <td>38809</td>\n",
       "    </tr>\n",
       "    <tr>\n",
       "      <th>198</th>\n",
       "      <td>198</td>\n",
       "      <td>39204</td>\n",
       "    </tr>\n",
       "    <tr>\n",
       "      <th>199</th>\n",
       "      <td>199</td>\n",
       "      <td>39601</td>\n",
       "    </tr>\n",
       "  </tbody>\n",
       "</table>\n",
       "</div>"
      ],
      "text/plain": [
       "       x      y\n",
       "197  197  38809\n",
       "198  198  39204\n",
       "199  199  39601"
      ]
     },
     "execution_count": 36,
     "metadata": {},
     "output_type": "execute_result"
    }
   ],
   "source": [
    "df.tail(3)"
   ]
  },
  {
   "cell_type": "code",
   "execution_count": 37,
   "metadata": {},
   "outputs": [
    {
     "data": {
      "text/plain": [
       "{'whiskers': [<matplotlib.lines.Line2D at 0x7f3f227a5430>,\n",
       "  <matplotlib.lines.Line2D at 0x7f3f227a5c70>],\n",
       " 'caps': [<matplotlib.lines.Line2D at 0x7f3f227a9e80>,\n",
       "  <matplotlib.lines.Line2D at 0x7f3f227a5f70>],\n",
       " 'boxes': [<matplotlib.lines.Line2D at 0x7f3f21f9ef10>],\n",
       " 'medians': [<matplotlib.lines.Line2D at 0x7f3f227c1310>],\n",
       " 'fliers': [<matplotlib.lines.Line2D at 0x7f3f227c1670>],\n",
       " 'means': []}"
      ]
     },
     "execution_count": 37,
     "metadata": {},
     "output_type": "execute_result"
    }
   ],
   "source": [
    "f.boxplot(y, vert=False)"
   ]
  },
  {
   "cell_type": "code",
   "execution_count": 38,
   "metadata": {},
   "outputs": [
    {
     "data": {
      "image/png": "[encoded data removed]",
      "text/plain": [
       "<Figure size 432x288 with 2 Axes>"
      ]
     },
     "execution_count": 38,
     "metadata": {},
     "output_type": "execute_result"
    }
   ],
   "source": [
    "fig"
   ]
  },
  {
   "cell_type": "code",
   "execution_count": 43,
   "metadata": {},
   "outputs": [
    {
     "data": {
      "text/plain": [
       "{'whiskers': [<matplotlib.lines.Line2D at 0x7f3f21fb0f40>,\n",
       "  <matplotlib.lines.Line2D at 0x7f3f21fb0a30>],\n",
       " 'caps': [<matplotlib.lines.Line2D at 0x7f3f21fb0d00>,\n",
       "  <matplotlib.lines.Line2D at 0x7f3f21fb0400>],\n",
       " 'boxes': [<matplotlib.lines.Line2D at 0x7f3f22786460>],\n",
       " 'medians': [<matplotlib.lines.Line2D at 0x7f3f21fb0760>],\n",
       " 'fliers': [<matplotlib.lines.Line2D at 0x7f3f21f8d2b0>],\n",
       " 'means': []}"
      ]
     },
     "execution_count": 43,
     "metadata": {},
     "output_type": "execute_result"
    }
   ],
   "source": [
    "f.boxplot(y, vert=True)"
   ]
  },
  {
   "cell_type": "code",
   "execution_count": 44,
   "metadata": {},
   "outputs": [
    {
     "data": {
      "image/png": "[encoded data removed]",
      "text/plain": [
       "<Figure size 432x288 with 2 Axes>"
      ]
     },
     "execution_count": 44,
     "metadata": {},
     "output_type": "execute_result"
    }
   ],
   "source": [
    "fig"
   ]
  },
  {
   "cell_type": "code",
   "execution_count": 45,
   "metadata": {},
   "outputs": [
    {
     "data": {
      "text/plain": [
       "{'whiskers': [<matplotlib.lines.Line2D at 0x7f3f24b5f5e0>,\n",
       "  <matplotlib.lines.Line2D at 0x7f3f24b5f490>],\n",
       " 'caps': [<matplotlib.lines.Line2D at 0x7f3f24ba5220>,\n",
       "  <matplotlib.lines.Line2D at 0x7f3f21a555e0>],\n",
       " 'boxes': [<matplotlib.lines.Line2D at 0x7f3f24cdb1f0>],\n",
       " 'medians': [<matplotlib.lines.Line2D at 0x7f3f21fb5070>],\n",
       " 'fliers': [<matplotlib.lines.Line2D at 0x7f3f21396490>],\n",
       " 'means': []}"
      ]
     },
     "execution_count": 45,
     "metadata": {},
     "output_type": "execute_result"
    }
   ],
   "source": [
    "f.boxplot(y)"
   ]
  },
  {
   "cell_type": "code",
   "execution_count": 46,
   "metadata": {},
   "outputs": [
    {
     "data": {
      "image/png": "[encoded data removed]",
      "text/plain": [
       "<Figure size 432x288 with 2 Axes>"
      ]
     },
     "execution_count": 46,
     "metadata": {},
     "output_type": "execute_result"
    }
   ],
   "source": [
    "fig"
   ]
  },
  {
   "cell_type": "code",
   "execution_count": 47,
   "metadata": {},
   "outputs": [
    {
     "data": {
      "text/plain": [
       "(array([63., 26., 20., 17., 15., 14., 12., 11., 11., 11.]),\n",
       " array([    0. ,  3960.1,  7920.2, 11880.3, 15840.4, 19800.5, 23760.6,\n",
       "        27720.7, 31680.8, 35640.9, 39601. ]),\n",
       " <BarContainer object of 10 artists>)"
      ]
     },
     "execution_count": 47,
     "metadata": {},
     "output_type": "execute_result"
    }
   ],
   "source": [
    "e.hist(y)"
   ]
  },
  {
   "cell_type": "code",
   "execution_count": 48,
   "metadata": {},
   "outputs": [
    {
     "data": {
      "image/png": "[encoded data removed]",
      "text/plain": [
       "<Figure size 432x288 with 2 Axes>"
      ]
     },
     "execution_count": 48,
     "metadata": {},
     "output_type": "execute_result"
    }
   ],
   "source": [
    "fig"
   ]
  },
  {
   "cell_type": "code",
   "execution_count": 54,
   "metadata": {},
   "outputs": [
    {
     "data": {
      "text/plain": [
       "(array([15.,  5.,  5.,  4.,  3.,  3.,  3.,  2.,  3.,  2.,  2.,  2.,  2.,\n",
       "         2.,  2.,  2.,  2.,  1.,  2.,  1.,  2.,  2.,  1.,  1.,  2.,  1.,\n",
       "         2.,  1.,  1.,  2.,  1.,  1.,  1.,  2.,  1.,  1.,  1.,  1.,  1.,\n",
       "         1.,  2.,  1.,  1.,  1.,  1.,  1.,  1.,  1.,  1.,  1.,  1.,  1.,\n",
       "         1.,  1.,  1.,  1.,  1.,  1.,  1.,  0.,  1.,  1.,  1.,  1.,  1.,\n",
       "         1.,  1.,  1.,  0.,  1.,  1.,  1.,  1.,  1.,  0.,  1.,  1.,  1.,\n",
       "         1.,  0.,  1.,  1.,  1.,  0.,  1.,  1.,  1.,  1.,  0.,  1.,  1.,\n",
       "         0.,  1.,  1.,  1.,  0.,  1.,  1.,  1.,  0.,  1.,  1.,  0.,  1.,\n",
       "         1.,  0.,  1.,  1.,  0.,  1.,  1.,  0.,  1.,  1.,  0.,  1.,  1.,\n",
       "         0.,  1.,  1.,  0.,  1.,  1.,  0.,  1.,  0.,  1.,  1.,  0.,  1.,\n",
       "         1.,  0.,  1.,  0.,  1.,  1.,  0.,  1.,  0.,  1.,  1.,  0.,  1.,\n",
       "         0.,  1.,  1.,  0.,  1.,  0.,  1.,  0.,  1.,  1.,  0.,  1.,  0.,\n",
       "         1.,  0.,  1.,  0.,  1.,  1.,  0.,  1.,  0.,  1.,  0.,  1.,  0.,\n",
       "         1.,  1.,  0.,  1.,  0.,  1.,  0.,  1.,  0.,  1.,  0.,  1.,  0.,\n",
       "         1.,  0.,  1.,  0.,  1.,  0.,  1.,  0.,  1.,  0.,  1.,  0.,  1.,\n",
       "         0.,  1.,  1.,  0.,  1.]),\n",
       " array([    0.   ,   198.005,   396.01 ,   594.015,   792.02 ,   990.025,\n",
       "         1188.03 ,  1386.035,  1584.04 ,  1782.045,  1980.05 ,  2178.055,\n",
       "         2376.06 ,  2574.065,  2772.07 ,  2970.075,  3168.08 ,  3366.085,\n",
       "         3564.09 ,  3762.095,  3960.1  ,  4158.105,  4356.11 ,  4554.115,\n",
       "         4752.12 ,  4950.125,  5148.13 ,  5346.135,  5544.14 ,  5742.145,\n",
       "         5940.15 ,  6138.155,  6336.16 ,  6534.165,  6732.17 ,  6930.175,\n",
       "         7128.18 ,  7326.185,  7524.19 ,  7722.195,  7920.2  ,  8118.205,\n",
       "         8316.21 ,  8514.215,  8712.22 ,  8910.225,  9108.23 ,  9306.235,\n",
       "         9504.24 ,  9702.245,  9900.25 , 10098.255, 10296.26 , 10494.265,\n",
       "        10692.27 , 10890.275, 11088.28 , 11286.285, 11484.29 , 11682.295,\n",
       "        11880.3  , 12078.305, 12276.31 , 12474.315, 12672.32 , 12870.325,\n",
       "        13068.33 , 13266.335, 13464.34 , 13662.345, 13860.35 , 14058.355,\n",
       "        14256.36 , 14454.365, 14652.37 , 14850.375, 15048.38 , 15246.385,\n",
       "        15444.39 , 15642.395, 15840.4  , 16038.405, 16236.41 , 16434.415,\n",
       "        16632.42 , 16830.425, 17028.43 , 17226.435, 17424.44 , 17622.445,\n",
       "        17820.45 , 18018.455, 18216.46 , 18414.465, 18612.47 , 18810.475,\n",
       "        19008.48 , 19206.485, 19404.49 , 19602.495, 19800.5  , 19998.505,\n",
       "        20196.51 , 20394.515, 20592.52 , 20790.525, 20988.53 , 21186.535,\n",
       "        21384.54 , 21582.545, 21780.55 , 21978.555, 22176.56 , 22374.565,\n",
       "        22572.57 , 22770.575, 22968.58 , 23166.585, 23364.59 , 23562.595,\n",
       "        23760.6  , 23958.605, 24156.61 , 24354.615, 24552.62 , 24750.625,\n",
       "        24948.63 , 25146.635, 25344.64 , 25542.645, 25740.65 , 25938.655,\n",
       "        26136.66 , 26334.665, 26532.67 , 26730.675, 26928.68 , 27126.685,\n",
       "        27324.69 , 27522.695, 27720.7  , 27918.705, 28116.71 , 28314.715,\n",
       "        28512.72 , 28710.725, 28908.73 , 29106.735, 29304.74 , 29502.745,\n",
       "        29700.75 , 29898.755, 30096.76 , 30294.765, 30492.77 , 30690.775,\n",
       "        30888.78 , 31086.785, 31284.79 , 31482.795, 31680.8  , 31878.805,\n",
       "        32076.81 , 32274.815, 32472.82 , 32670.825, 32868.83 , 33066.835,\n",
       "        33264.84 , 33462.845, 33660.85 , 33858.855, 34056.86 , 34254.865,\n",
       "        34452.87 , 34650.875, 34848.88 , 35046.885, 35244.89 , 35442.895,\n",
       "        35640.9  , 35838.905, 36036.91 , 36234.915, 36432.92 , 36630.925,\n",
       "        36828.93 , 37026.935, 37224.94 , 37422.945, 37620.95 , 37818.955,\n",
       "        38016.96 , 38214.965, 38412.97 , 38610.975, 38808.98 , 39006.985,\n",
       "        39204.99 , 39402.995, 39601.   ]),\n",
       " <BarContainer object of 200 artists>)"
      ]
     },
     "execution_count": 54,
     "metadata": {},
     "output_type": "execute_result"
    }
   ],
   "source": [
    "e.hist(y, bins=200)"
   ]
  },
  {
   "cell_type": "code",
   "execution_count": 55,
   "metadata": {},
   "outputs": [
    {
     "data": {
      "image/png": "[encoded data removed]",
      "text/plain": [
       "<Figure size 432x288 with 2 Axes>"
      ]
     },
     "execution_count": 55,
     "metadata": {},
     "output_type": "execute_result"
    }
   ],
   "source": [
    "fig"
   ]
  },
  {
   "cell_type": "code",
   "execution_count": 57,
   "metadata": {},
   "outputs": [],
   "source": [
    "np.random.seed(19680801)"
   ]
  },
  {
   "cell_type": "code",
   "execution_count": 58,
   "metadata": {},
   "outputs": [],
   "source": [
    "\n",
    "# example data\n",
    "mu = 100  # mean of distribution\n",
    "sigma = 15  # standard deviation of distribution"
   ]
  },
  {
   "cell_type": "raw",
   "metadata": {},
   "source": [
    "r = np.random.randn(437)"
   ]
  },
  {
   "cell_type": "code",
   "execution_count": 64,
   "metadata": {},
   "outputs": [],
   "source": [
    "x = mu + sigma * np.random.randn(437)\n"
   ]
  },
  {
   "cell_type": "code",
   "execution_count": 65,
   "metadata": {},
   "outputs": [
    {
     "data": {
      "text/plain": [
       "array([115.73956466, 112.99148762, 108.267019  , 125.92116686,\n",
       "        90.26067825,  92.82370635, 116.16827658, 114.53215499,\n",
       "        87.8598281 ,  81.43916344, 127.90174814,  95.37521144,\n",
       "       111.74455826, 100.32285171, 110.73495683, 121.0219976 ,\n",
       "        83.08746824, 124.8372733 , 121.01442223, 103.02985105,\n",
       "        85.52704653, 115.66882769,  93.5342397 ,  92.54020755,\n",
       "        99.11323876,  83.28093002,  81.59503322,  78.84867708,\n",
       "       119.66290772,  92.23836888,  99.75012795, 107.03758377,\n",
       "       111.65167142,  71.72953461,  98.08619   ,  92.21023846,\n",
       "       111.02714831, 120.20276983, 108.2538258 ,  96.56423263,\n",
       "       109.91847439,  91.95447299,  92.77083436, 104.69085344,\n",
       "        53.17242208,  79.62284483,  97.8604269 ,  96.74504612,\n",
       "        99.50697994, 127.48217025, 105.28539761, 103.54967699,\n",
       "       122.17822098, 123.31459855,  83.34086535, 112.35682844,\n",
       "       109.97912032, 110.72149585,  81.53819421, 131.43103191,\n",
       "        90.95170777, 124.2032959 ,  96.19023925,  77.26181842,\n",
       "        98.24160216, 107.43142538,  89.46113729, 105.92604303,\n",
       "        83.15081469,  74.26667822,  95.9334228 , 101.29361108,\n",
       "        83.64293222, 101.6881452 ,  85.695333  , 100.75334792,\n",
       "        92.75259096, 120.0085495 , 107.2028212 ,  88.75410011,\n",
       "        80.18835159, 104.983474  ,  96.00087488, 109.54303038,\n",
       "        83.22527241, 103.96817727, 101.39589119,  82.05702865,\n",
       "        86.516083  ,  99.31904919,  91.04248627, 100.23428729,\n",
       "        90.89224131, 110.82101245, 106.96416517, 112.39839128,\n",
       "       101.3951805 ,  66.06575367, 114.86085469,  80.8927636 ,\n",
       "        79.18394591, 102.32831166, 101.10508721, 115.43722066,\n",
       "        90.09427668,  90.71694075,  97.15694425,  91.80947393,\n",
       "       124.3870744 ,  98.46181352,  78.54994055, 113.13074516,\n",
       "        97.72391147,  94.45046302, 100.20975434,  98.77498024,\n",
       "       116.38716017, 107.91673785, 126.12516228,  91.80513285,\n",
       "       124.86051929, 110.10444947,  98.72727999,  75.21393482,\n",
       "       109.65345596,  86.28506456, 105.24817513, 101.47131435,\n",
       "       113.80199611, 106.24372122, 110.32447979,  99.50936203,\n",
       "       108.13816758,  99.91168256,  79.57382337,  95.23823097,\n",
       "        65.09853269, 113.19331505,  89.71061819,  82.08651332,\n",
       "        81.69710855,  87.23374962, 110.10610058, 109.53753557,\n",
       "       112.52912358, 102.72989377, 118.48436112,  85.04737279,\n",
       "        87.93643235, 127.49844799, 101.26069315,  93.00660534,\n",
       "        93.11812841,  90.64458015, 109.67699309,  72.22629057,\n",
       "       112.65013497, 116.40800137, 106.84863665, 104.09696247,\n",
       "        71.2476924 , 102.44498628, 113.80655586,  89.99086816,\n",
       "        99.30007136,  90.79343501,  94.37599094, 107.75411228,\n",
       "       108.08371726, 100.02287439,  98.38320606, 110.35520373,\n",
       "       122.21169912, 113.58184121, 124.45209254, 100.79529376,\n",
       "        74.83199838,  95.40930383,  97.57703598, 116.91225487,\n",
       "        99.58286999, 100.43516095,  87.41674963,  85.03586136,\n",
       "       102.95280051,  76.49465573, 101.15219352, 103.44240711,\n",
       "       117.46708902, 100.20340862,  83.02449746,  89.5222017 ,\n",
       "        80.7500885 ,  84.48471801, 112.88082529,  83.07091859,\n",
       "       106.37645078, 115.24212006,  52.92062269,  92.6195406 ,\n",
       "       124.15228691, 107.10966424,  65.327034  ,  93.20228273,\n",
       "        87.52495864,  96.05305701,  96.19938304, 101.56961479,\n",
       "        94.9234376 ,  82.77958647,  92.08417175,  98.18784019,\n",
       "       102.61428805,  90.41655404,  98.72382357, 124.40344751,\n",
       "       110.94262307, 105.81052545, 102.04111895, 102.37890168,\n",
       "        98.68953076,  89.0324317 , 118.70067216, 110.68514574,\n",
       "        82.41155091, 106.58427358,  92.1145279 , 106.7822023 ,\n",
       "       112.4417131 , 131.54383614, 107.66560259, 132.11544495,\n",
       "        90.80151194, 130.84082053,  99.63311457, 125.2431512 ,\n",
       "       116.63292837, 114.32961601,  93.38042457,  93.0565825 ,\n",
       "       116.39628621,  79.34935367, 103.27257188,  67.12756389,\n",
       "       113.52285554, 128.73082937, 114.78282821, 102.89419607,\n",
       "        94.13495719,  88.35547292,  95.24474482, 100.34960248,\n",
       "       108.27360138, 121.93188852, 120.19883218,  94.35775076,\n",
       "        97.99534663, 119.13606514, 105.82150071,  76.55882884,\n",
       "       107.54609533,  79.67555079, 118.45234158,  84.7788594 ,\n",
       "       103.36907154,  97.68838683,  69.8116969 , 124.93274831,\n",
       "       114.20885691,  61.37247438, 105.92381197,  96.35698409,\n",
       "       111.14595531, 100.32415917, 127.31981425,  75.430859  ,\n",
       "       101.42341441,  97.39972919, 108.3275118 , 106.34845275,\n",
       "        87.85191761,  81.18392166, 111.72260227,  83.22855847,\n",
       "        87.24629886, 103.56024931, 103.10529233, 100.53951053,\n",
       "        96.15732671,  91.27659765, 100.48263587,  96.21604401,\n",
       "        93.54672757, 108.35473381, 109.04579266,  93.72258842,\n",
       "       124.6043602 , 112.84643326, 107.57799568, 101.25393886,\n",
       "       104.17772015,  98.94834644,  99.45607177,  66.15480232,\n",
       "        78.1422401 ,  93.41511173,  99.67898178,  86.28987651,\n",
       "       115.70369218, 104.4528653 ,  84.42595785,  96.58814831,\n",
       "       113.5646863 ,  77.80385261,  93.39853729, 124.09955964,\n",
       "        84.5798135 ,  85.50200326, 111.13811667, 124.90149582,\n",
       "        71.82934764, 101.99667719, 102.23633467, 112.85645234,\n",
       "       109.99763546, 103.0453984 ,  95.68098489, 118.1136647 ,\n",
       "        95.88500059, 118.17521244, 121.32926703,  89.47830909,\n",
       "        98.54110437,  98.11383411, 113.57324584, 111.18562594,\n",
       "        71.29882461,  81.94920682, 106.21225153,  78.58190354,\n",
       "       116.89877281, 116.10036644,  87.93049274, 121.08343689,\n",
       "        85.94012459, 105.90725232, 135.95895051,  77.42569602,\n",
       "        79.42299081, 105.41014896,  88.74560821, 105.45141984,\n",
       "        58.79339414, 107.84004743, 115.69637071, 115.65139668,\n",
       "        94.09324906, 110.13512817, 102.52110946, 113.43479722,\n",
       "        97.49498579, 112.70882343,  96.91555688, 116.95689601,\n",
       "        91.79921809,  97.32537409,  99.37759912,  90.66863047,\n",
       "        98.76043707, 100.96667471, 107.86373188, 123.1879693 ,\n",
       "        89.60000737,  98.86647854, 125.52023762,  87.66186533,\n",
       "        86.41611317, 101.02316946,  92.39820308, 137.8797515 ,\n",
       "        94.83805668, 103.8040935 , 116.32980567,  91.18761101,\n",
       "       117.97998855,  85.83928562,  76.35858594, 110.98733016,\n",
       "        86.71201437,  76.65948755,  97.66969088, 111.44382174,\n",
       "        73.93897368,  84.77859758, 104.58984058, 111.54516676,\n",
       "       128.69901887, 100.38360463,  98.54848259,  88.28270448,\n",
       "       101.82814236, 115.59298939, 101.92113123, 117.46353449,\n",
       "       104.60922051,  82.96994186,  98.77942103,  95.46104546,\n",
       "        88.39922282,  97.93707642,  90.70335642, 100.74678814,\n",
       "        83.1794963 , 111.99040161, 105.24632576, 108.50137004,\n",
       "       114.71892694,  87.93304236, 106.55172432, 101.18010638,\n",
       "        83.72555459, 142.01618503,  85.76209596,  91.90820315,\n",
       "       128.66380521, 108.75910265,  96.98598831,  92.7786331 ,\n",
       "       102.28756876, 107.05704058,  97.1648349 ,  94.65047767,\n",
       "        75.59880083,  94.0304089 , 119.22815857, 100.80532387,\n",
       "        82.82977789])"
      ]
     },
     "execution_count": 65,
     "metadata": {},
     "output_type": "execute_result"
    }
   ],
   "source": [
    "x"
   ]
  },
  {
   "cell_type": "code",
   "execution_count": 67,
   "metadata": {},
   "outputs": [],
   "source": [
    "num_bins = 50\n"
   ]
  },
  {
   "cell_type": "code",
   "execution_count": 68,
   "metadata": {},
   "outputs": [
    {
     "data": {
      "image/png": "[encoded data removed]",
      "text/plain": [
       "<Figure size 432x288 with 1 Axes>"
      ]
     },
     "metadata": {
      "needs_background": "light"
     },
     "output_type": "display_data"
    }
   ],
   "source": [
    "fig, ax = plt.subplots()"
   ]
  },
  {
   "cell_type": "code",
   "execution_count": 69,
   "metadata": {},
   "outputs": [],
   "source": [
    "n, bins, patches = ax.hist(x, num_bins, density=True)"
   ]
  },
  {
   "cell_type": "code",
   "execution_count": 70,
   "metadata": {},
   "outputs": [
    {
     "data": {
      "image/png": "[encoded data removed]",
      "text/plain": [
       "<Figure size 432x288 with 1 Axes>"
      ]
     },
     "execution_count": 70,
     "metadata": {},
     "output_type": "execute_result"
    }
   ],
   "source": [
    "fig"
   ]
  },
  {
   "cell_type": "code",
   "execution_count": 71,
   "metadata": {},
   "outputs": [
    {
     "data": {
      "text/plain": [
       "(array([ 2.,  0.,  0.,  1.,  1.,  0.,  2.,  3.,  0.,  1.,  5.,  2.,  4.,\n",
       "         7.,  9.,  5., 16., 11., 13., 13., 11., 19., 19., 15., 18., 25.,\n",
       "        28., 24., 16., 17., 19., 13., 21., 15., 13., 17.,  8.,  6.,  7.,\n",
       "         4., 12.,  4.,  4.,  1.,  3.,  0.,  1.,  1.,  0.,  1.]),\n",
       " array([ 52.92062269,  54.70253394,  56.48444518,  58.26635643,\n",
       "         60.04826768,  61.83017892,  63.61209017,  65.39400142,\n",
       "         67.17591266,  68.95782391,  70.73973516,  72.5216464 ,\n",
       "         74.30355765,  76.0854689 ,  77.86738015,  79.64929139,\n",
       "         81.43120264,  83.21311389,  84.99502513,  86.77693638,\n",
       "         88.55884763,  90.34075887,  92.12267012,  93.90458137,\n",
       "         95.68649261,  97.46840386,  99.25031511, 101.03222635,\n",
       "        102.8141376 , 104.59604885, 106.37796009, 108.15987134,\n",
       "        109.94178259, 111.72369383, 113.50560508, 115.28751633,\n",
       "        117.06942758, 118.85133882, 120.63325007, 122.41516132,\n",
       "        124.19707256, 125.97898381, 127.76089506, 129.5428063 ,\n",
       "        131.32471755, 133.1066288 , 134.88854004, 136.67045129,\n",
       "        138.45236254, 140.23427378, 142.01618503]),\n",
       " <BarContainer object of 50 artists>)"
      ]
     },
     "execution_count": 71,
     "metadata": {},
     "output_type": "execute_result"
    }
   ],
   "source": [
    " ax.hist(x, num_bins, density=False)"
   ]
  },
  {
   "cell_type": "code",
   "execution_count": 72,
   "metadata": {},
   "outputs": [
    {
     "data": {
      "image/png": "[encoded data removed]",
      "text/plain": [
       "<Figure size 432x288 with 1 Axes>"
      ]
     },
     "execution_count": 72,
     "metadata": {},
     "output_type": "execute_result"
    }
   ],
   "source": [
    "fig"
   ]
  },
  {
   "cell_type": "code",
   "execution_count": 73,
   "metadata": {},
   "outputs": [
    {
     "data": {
      "text/plain": [
       "(array([0.0025684 , 0.        , 0.        , 0.0012842 , 0.0012842 ,\n",
       "        0.        , 0.0025684 , 0.0038526 , 0.        , 0.0012842 ,\n",
       "        0.006421  , 0.0025684 , 0.0051368 , 0.0089894 , 0.0115578 ,\n",
       "        0.006421  , 0.02054719, 0.01412619, 0.01669459, 0.01669459,\n",
       "        0.01412619, 0.02439979, 0.02439979, 0.01926299, 0.02311559,\n",
       "        0.03210499, 0.03595759, 0.03082079, 0.02054719, 0.02183139,\n",
       "        0.02439979, 0.01669459, 0.02696819, 0.01926299, 0.01669459,\n",
       "        0.02183139, 0.0102736 , 0.0077052 , 0.0089894 , 0.0051368 ,\n",
       "        0.01541039, 0.0051368 , 0.0051368 , 0.0012842 , 0.0038526 ,\n",
       "        0.        , 0.0012842 , 0.0012842 , 0.        , 0.0012842 ]),\n",
       " array([ 52.92062269,  54.70253394,  56.48444518,  58.26635643,\n",
       "         60.04826768,  61.83017892,  63.61209017,  65.39400142,\n",
       "         67.17591266,  68.95782391,  70.73973516,  72.5216464 ,\n",
       "         74.30355765,  76.0854689 ,  77.86738015,  79.64929139,\n",
       "         81.43120264,  83.21311389,  84.99502513,  86.77693638,\n",
       "         88.55884763,  90.34075887,  92.12267012,  93.90458137,\n",
       "         95.68649261,  97.46840386,  99.25031511, 101.03222635,\n",
       "        102.8141376 , 104.59604885, 106.37796009, 108.15987134,\n",
       "        109.94178259, 111.72369383, 113.50560508, 115.28751633,\n",
       "        117.06942758, 118.85133882, 120.63325007, 122.41516132,\n",
       "        124.19707256, 125.97898381, 127.76089506, 129.5428063 ,\n",
       "        131.32471755, 133.1066288 , 134.88854004, 136.67045129,\n",
       "        138.45236254, 140.23427378, 142.01618503]),\n",
       " <BarContainer object of 50 artists>)"
      ]
     },
     "execution_count": 73,
     "metadata": {},
     "output_type": "execute_result"
    }
   ],
   "source": [
    " ax.hist(x, num_bins, density=True)"
   ]
  },
  {
   "cell_type": "code",
   "execution_count": 74,
   "metadata": {},
   "outputs": [],
   "source": [
    "# add a 'best fit' line\n",
    "y = ((1 / (np.sqrt(2 * np.pi) * sigma)) *\n",
    "     np.exp(-0.5 * (1 / sigma * (bins - mu))**2))"
   ]
  },
  {
   "cell_type": "code",
   "execution_count": 75,
   "metadata": {},
   "outputs": [
    {
     "data": {
      "text/plain": [
       "[<matplotlib.lines.Line2D at 0x7f3f20fa9d30>]"
      ]
     },
     "execution_count": 75,
     "metadata": {},
     "output_type": "execute_result"
    }
   ],
   "source": [
    "ax.plot(bins, y, '--')"
   ]
  },
  {
   "cell_type": "code",
   "execution_count": 76,
   "metadata": {},
   "outputs": [
    {
     "data": {
      "text/plain": [
       "Text(0.5, 1.0, 'Histogram of IQ: $\\\\mu=100$, $\\\\sigma=15$')"
      ]
     },
     "execution_count": 76,
     "metadata": {},
     "output_type": "execute_result"
    }
   ],
   "source": [
    "ax.set_xlabel('Smarts')\n",
    "ax.set_ylabel('Probability density')\n",
    "ax.set_title(r'Histogram of IQ: $\\mu=100$, $\\sigma=15$')"
   ]
  },
  {
   "cell_type": "code",
   "execution_count": 77,
   "metadata": {},
   "outputs": [],
   "source": [
    "# Tweak spacing to prevent clipping of ylabel\n",
    "fig.tight_layout()\n",
    "plt.show()\n"
   ]
  },
  {
   "cell_type": "code",
   "execution_count": 78,
   "metadata": {},
   "outputs": [
    {
     "data": {
      "image/png": "[encoded data removed]",
      "text/plain": [
       "<Figure size 432x288 with 1 Axes>"
      ]
     },
     "execution_count": 78,
     "metadata": {},
     "output_type": "execute_result"
    }
   ],
   "source": [
    "fig"
   ]
  },
  {
   "cell_type": "code",
   "execution_count": 79,
   "metadata": {},
   "outputs": [],
   "source": [
    "n, bins, patches = ax.hist(x, num_bins, density=True)"
   ]
  },
  {
   "cell_type": "code",
   "execution_count": 80,
   "metadata": {},
   "outputs": [
    {
     "data": {
      "image/png": "[encoded data removed]",
      "text/plain": [
       "<Figure size 432x288 with 1 Axes>"
      ]
     },
     "execution_count": 80,
     "metadata": {},
     "output_type": "execute_result"
    }
   ],
   "source": [
    "fig"
   ]
  },
  {
   "cell_type": "code",
   "execution_count": 81,
   "metadata": {},
   "outputs": [],
   "source": [
    "n, bins, patches = ax.hist(x, num_bins, density=True, color='blue')"
   ]
  },
  {
   "cell_type": "code",
   "execution_count": 82,
   "metadata": {},
   "outputs": [
    {
     "data": {
      "image/png": "[encoded data removed]",
      "text/plain": [
       "<Figure size 432x288 with 1 Axes>"
      ]
     },
     "execution_count": 82,
     "metadata": {},
     "output_type": "execute_result"
    }
   ],
   "source": [
    "fig"
   ]
  },
  {
   "cell_type": "code",
   "execution_count": 84,
   "metadata": {},
   "outputs": [],
   "source": [
    "x1 = np.arange(0, 100)"
   ]
  },
  {
   "cell_type": "code",
   "execution_count": 85,
   "metadata": {},
   "outputs": [],
   "source": [
    "y1 = np.square(x1)"
   ]
  },
  {
   "cell_type": "code",
   "execution_count": 86,
   "metadata": {},
   "outputs": [
    {
     "data": {
      "text/plain": [
       "<matplotlib.collections.PathCollection at 0x7f3f20f83670>"
      ]
     },
     "execution_count": 86,
     "metadata": {},
     "output_type": "execute_result"
    }
   ],
   "source": [
    "ax.scatter(x1, y1)"
   ]
  },
  {
   "cell_type": "code",
   "execution_count": 87,
   "metadata": {},
   "outputs": [
    {
     "data": {
      "image/png": "[encoded data removed]",
      "text/plain": [
       "<Figure size 432x288 with 1 Axes>"
      ]
     },
     "execution_count": 87,
     "metadata": {},
     "output_type": "execute_result"
    }
   ],
   "source": [
    "fig"
   ]
  },
  {
   "cell_type": "code",
   "execution_count": 88,
   "metadata": {},
   "outputs": [
    {
     "data": {
      "text/plain": [
       "<matplotlib.collections.PathCollection at 0x7f3f24bea490>"
      ]
     },
     "execution_count": 88,
     "metadata": {},
     "output_type": "execute_result"
    }
   ],
   "source": [
    "ax.scatter([1, 4, 7, 8, 2, 1, 9, 12, 7], [100, 2, 43, 500, 21, 4, 100, 2, 8])"
   ]
  },
  {
   "cell_type": "code",
   "execution_count": 89,
   "metadata": {},
   "outputs": [
    {
     "data": {
      "image/png": "[encoded data removed]",
      "text/plain": [
       "<Figure size 432x288 with 1 Axes>"
      ]
     },
     "execution_count": 89,
     "metadata": {},
     "output_type": "execute_result"
    }
   ],
   "source": [
    "fig"
   ]
  },
  {
   "cell_type": "code",
   "execution_count": 90,
   "metadata": {},
   "outputs": [
    {
     "name": "stderr",
     "output_type": "stream",
     "text": [
      "<frozen importlib._bootstrap>:219: RuntimeWarning: numpy.ufunc size changed, may indicate binary incompatibility. Expected 192 from C header, got 216 from PyObject\n",
      "<frozen importlib._bootstrap>:219: RuntimeWarning: numpy.ufunc size changed, may indicate binary incompatibility. Expected 192 from C header, got 216 from PyObject\n",
      "<frozen importlib._bootstrap>:219: RuntimeWarning: numpy.ufunc size changed, may indicate binary incompatibility. Expected 192 from C header, got 216 from PyObject\n"
     ]
    }
   ],
   "source": [
    "import seaborn as sns"
   ]
  },
  {
   "cell_type": "code",
   "execution_count": 92,
   "metadata": {},
   "outputs": [],
   "source": [
    "sns.set_theme(color_codes=True)\n"
   ]
  },
  {
   "cell_type": "code",
   "execution_count": 93,
   "metadata": {},
   "outputs": [],
   "source": [
    "tips = sns.load_dataset(\"tips\")"
   ]
  },
  {
   "cell_type": "code",
   "execution_count": 94,
   "metadata": {},
   "outputs": [
    {
     "data": {
      "text/html": [
       "<div>\n",
       "<style scoped>\n",
       "    .dataframe tbody tr th:only-of-type {\n",
       "        vertical-align: middle;\n",
       "    }\n",
       "\n",
       "    .dataframe tbody tr th {\n",
       "        vertical-align: top;\n",
       "    }\n",
       "\n",
       "    .dataframe thead th {\n",
       "        text-align: right;\n",
       "    }\n",
       "</style>\n",
       "<table border=\"1\" class=\"dataframe\">\n",
       "  <thead>\n",
       "    <tr style=\"text-align: right;\">\n",
       "      <th></th>\n",
       "      <th>total_bill</th>\n",
       "      <th>tip</th>\n",
       "      <th>sex</th>\n",
       "      <th>smoker</th>\n",
       "      <th>day</th>\n",
       "      <th>time</th>\n",
       "      <th>size</th>\n",
       "    </tr>\n",
       "  </thead>\n",
       "  <tbody>\n",
       "    <tr>\n",
       "      <th>0</th>\n",
       "      <td>16.99</td>\n",
       "      <td>1.01</td>\n",
       "      <td>Female</td>\n",
       "      <td>No</td>\n",
       "      <td>Sun</td>\n",
       "      <td>Dinner</td>\n",
       "      <td>2</td>\n",
       "    </tr>\n",
       "    <tr>\n",
       "      <th>1</th>\n",
       "      <td>10.34</td>\n",
       "      <td>1.66</td>\n",
       "      <td>Male</td>\n",
       "      <td>No</td>\n",
       "      <td>Sun</td>\n",
       "      <td>Dinner</td>\n",
       "      <td>3</td>\n",
       "    </tr>\n",
       "    <tr>\n",
       "      <th>2</th>\n",
       "      <td>21.01</td>\n",
       "      <td>3.50</td>\n",
       "      <td>Male</td>\n",
       "      <td>No</td>\n",
       "      <td>Sun</td>\n",
       "      <td>Dinner</td>\n",
       "      <td>3</td>\n",
       "    </tr>\n",
       "    <tr>\n",
       "      <th>3</th>\n",
       "      <td>23.68</td>\n",
       "      <td>3.31</td>\n",
       "      <td>Male</td>\n",
       "      <td>No</td>\n",
       "      <td>Sun</td>\n",
       "      <td>Dinner</td>\n",
       "      <td>2</td>\n",
       "    </tr>\n",
       "    <tr>\n",
       "      <th>4</th>\n",
       "      <td>24.59</td>\n",
       "      <td>3.61</td>\n",
       "      <td>Female</td>\n",
       "      <td>No</td>\n",
       "      <td>Sun</td>\n",
       "      <td>Dinner</td>\n",
       "      <td>4</td>\n",
       "    </tr>\n",
       "    <tr>\n",
       "      <th>...</th>\n",
       "      <td>...</td>\n",
       "      <td>...</td>\n",
       "      <td>...</td>\n",
       "      <td>...</td>\n",
       "      <td>...</td>\n",
       "      <td>...</td>\n",
       "      <td>...</td>\n",
       "    </tr>\n",
       "    <tr>\n",
       "      <th>239</th>\n",
       "      <td>29.03</td>\n",
       "      <td>5.92</td>\n",
       "      <td>Male</td>\n",
       "      <td>No</td>\n",
       "      <td>Sat</td>\n",
       "      <td>Dinner</td>\n",
       "      <td>3</td>\n",
       "    </tr>\n",
       "    <tr>\n",
       "      <th>240</th>\n",
       "      <td>27.18</td>\n",
       "      <td>2.00</td>\n",
       "      <td>Female</td>\n",
       "      <td>Yes</td>\n",
       "      <td>Sat</td>\n",
       "      <td>Dinner</td>\n",
       "      <td>2</td>\n",
       "    </tr>\n",
       "    <tr>\n",
       "      <th>241</th>\n",
       "      <td>22.67</td>\n",
       "      <td>2.00</td>\n",
       "      <td>Male</td>\n",
       "      <td>Yes</td>\n",
       "      <td>Sat</td>\n",
       "      <td>Dinner</td>\n",
       "      <td>2</td>\n",
       "    </tr>\n",
       "    <tr>\n",
       "      <th>242</th>\n",
       "      <td>17.82</td>\n",
       "      <td>1.75</td>\n",
       "      <td>Male</td>\n",
       "      <td>No</td>\n",
       "      <td>Sat</td>\n",
       "      <td>Dinner</td>\n",
       "      <td>2</td>\n",
       "    </tr>\n",
       "    <tr>\n",
       "      <th>243</th>\n",
       "      <td>18.78</td>\n",
       "      <td>3.00</td>\n",
       "      <td>Female</td>\n",
       "      <td>No</td>\n",
       "      <td>Thur</td>\n",
       "      <td>Dinner</td>\n",
       "      <td>2</td>\n",
       "    </tr>\n",
       "  </tbody>\n",
       "</table>\n",
       "<p>244 rows × 7 columns</p>\n",
       "</div>"
      ],
      "text/plain": [
       "     total_bill   tip     sex smoker   day    time  size\n",
       "0         16.99  1.01  Female     No   Sun  Dinner     2\n",
       "1         10.34  1.66    Male     No   Sun  Dinner     3\n",
       "2         21.01  3.50    Male     No   Sun  Dinner     3\n",
       "3         23.68  3.31    Male     No   Sun  Dinner     2\n",
       "4         24.59  3.61  Female     No   Sun  Dinner     4\n",
       "..          ...   ...     ...    ...   ...     ...   ...\n",
       "239       29.03  5.92    Male     No   Sat  Dinner     3\n",
       "240       27.18  2.00  Female    Yes   Sat  Dinner     2\n",
       "241       22.67  2.00    Male    Yes   Sat  Dinner     2\n",
       "242       17.82  1.75    Male     No   Sat  Dinner     2\n",
       "243       18.78  3.00  Female     No  Thur  Dinner     2\n",
       "\n",
       "[244 rows x 7 columns]"
      ]
     },
     "execution_count": 94,
     "metadata": {},
     "output_type": "execute_result"
    }
   ],
   "source": [
    "tips"
   ]
  },
  {
   "cell_type": "code",
   "execution_count": 95,
   "metadata": {},
   "outputs": [
    {
     "data": {
      "image/png": "[encoded data removed]",
      "text/plain": [
       "<Figure size 432x288 with 1 Axes>"
      ]
     },
     "metadata": {},
     "output_type": "display_data"
    }
   ],
   "source": [
    "sns.regplot(x=\"total_bill\", y=\"tip\", data=tips);"
   ]
  },
  {
   "cell_type": "code",
   "execution_count": 96,
   "metadata": {},
   "outputs": [
    {
     "data": {
      "image/png": "[encoded data removed]",
      "text/plain": [
       "<Figure size 432x432 with 3 Axes>"
      ]
     },
     "metadata": {},
     "output_type": "display_data"
    }
   ],
   "source": [
    "sns.jointplot(x=\"total_bill\", y=\"tip\", data=tips, kind=\"reg\");\n"
   ]
  },
  {
   "cell_type": "code",
   "execution_count": 97,
   "metadata": {},
   "outputs": [
    {
     "data": {
      "image/png": "[encoded data removed]",
      "text/plain": [
       "<Figure size 432x432 with 3 Axes>"
      ]
     },
     "metadata": {},
     "output_type": "display_data"
    }
   ],
   "source": [
    "sns.jointplot(x=\"total_bill\", y=\"tip\", data=tips);\n"
   ]
  },
  {
   "cell_type": "code",
   "execution_count": null,
   "metadata": {},
   "outputs": [],
   "source": []
  }
 ],
 "metadata": {
  "kernelspec": {
   "display_name": "Python 3",
   "language": "python",
   "name": "python3"
  },
  "language_info": {
   "codemirror_mode": {
    "name": "ipython",
    "version": 3
   },
   "file_extension": ".py",
   "mimetype": "text/x-python",
   "name": "python",
   "nbconvert_exporter": "python",
   "pygments_lexer": "ipython3",
   "version": "3.8.3"
  }
 },
 "nbformat": 4,
 "nbformat_minor": 4
}
