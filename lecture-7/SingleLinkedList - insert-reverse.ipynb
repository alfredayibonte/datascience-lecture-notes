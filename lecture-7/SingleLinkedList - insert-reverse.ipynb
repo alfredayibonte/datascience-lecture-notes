{
 "cells": [
  {
   "cell_type": "code",
   "execution_count": 59,
   "metadata": {},
   "outputs": [],
   "source": [
    "class Node():\n",
    "    def __init__(self, value):\n",
    "        self.value = value\n",
    "        self.link = None\n",
    "        \n",
    "class SingleLinkedList():\n",
    "    def __init__(self):\n",
    "        self.start = None\n",
    "        \n",
    "    def display(self):\n",
    "        if self.start is None:\n",
    "            print('list is empty')\n",
    "            return\n",
    "        node = self.start\n",
    "        while node is not None:\n",
    "            print(node.value)\n",
    "            node = node.link\n",
    "            \n",
    "\n",
    "    def insert_at_position(self, k, value):\n",
    "        \n",
    "        if k <= 1:\n",
    "            temp = Node(value)\n",
    "            temp.link = self.start\n",
    "            self.start = temp\n",
    "            return\n",
    "        \n",
    "        count = 1\n",
    "        node = self.start\n",
    "        while count < (k -1) and node is not None:\n",
    "            node = node.link\n",
    "            count += 1\n",
    "\n",
    "        temp = Node(value)\n",
    "        temp.link = node.link\n",
    "        node.link = temp\n",
    "        \n",
    "    def reverse(self):\n",
    "        if self.start is None:\n",
    "            print('list is empty... nothing to reverse')\n",
    "            return\n",
    "        node = self.start\n",
    "        prev = None\n",
    "        while node is not None:\n",
    "            next_node = node.link\n",
    "            node.link = prev\n",
    "            prev = node\n",
    "            node = next_node\n",
    "            \n",
    "        self.start = prev\n",
    "            "
   ]
  },
  {
   "cell_type": "code",
   "execution_count": 60,
   "metadata": {},
   "outputs": [],
   "source": [
    "ss = SingleLinkedList()"
   ]
  },
  {
   "cell_type": "code",
   "execution_count": 61,
   "metadata": {},
   "outputs": [],
   "source": [
    "ss.insert_at_position(1, 3)"
   ]
  },
  {
   "cell_type": "code",
   "execution_count": 62,
   "metadata": {},
   "outputs": [
    {
     "name": "stdout",
     "output_type": "stream",
     "text": [
      "3\n"
     ]
    }
   ],
   "source": [
    "ss.display()"
   ]
  },
  {
   "cell_type": "code",
   "execution_count": 63,
   "metadata": {},
   "outputs": [],
   "source": [
    "ss.insert_at_position(1, 4)"
   ]
  },
  {
   "cell_type": "code",
   "execution_count": 53,
   "metadata": {
    "scrolled": true
   },
   "outputs": [
    {
     "name": "stdout",
     "output_type": "stream",
     "text": [
      "4\n",
      "3\n"
     ]
    }
   ],
   "source": [
    "ss.display()"
   ]
  },
  {
   "cell_type": "code",
   "execution_count": 64,
   "metadata": {},
   "outputs": [],
   "source": [
    "ss.insert_at_position(1, 5)"
   ]
  },
  {
   "cell_type": "code",
   "execution_count": 65,
   "metadata": {},
   "outputs": [
    {
     "name": "stdout",
     "output_type": "stream",
     "text": [
      "5\n",
      "4\n",
      "3\n"
     ]
    }
   ],
   "source": [
    "ss.display()"
   ]
  },
  {
   "cell_type": "code",
   "execution_count": 66,
   "metadata": {},
   "outputs": [],
   "source": [
    "ss.insert_at_position(2, 55)"
   ]
  },
  {
   "cell_type": "code",
   "execution_count": 67,
   "metadata": {},
   "outputs": [
    {
     "name": "stdout",
     "output_type": "stream",
     "text": [
      "5\n",
      "55\n",
      "4\n",
      "3\n"
     ]
    }
   ],
   "source": [
    "ss.display()"
   ]
  },
  {
   "cell_type": "code",
   "execution_count": 68,
   "metadata": {},
   "outputs": [],
   "source": [
    "ss.insert_at_position(1, 56)"
   ]
  },
  {
   "cell_type": "code",
   "execution_count": 69,
   "metadata": {},
   "outputs": [
    {
     "name": "stdout",
     "output_type": "stream",
     "text": [
      "56\n",
      "5\n",
      "55\n",
      "4\n",
      "3\n"
     ]
    }
   ],
   "source": [
    "ss.display()"
   ]
  },
  {
   "cell_type": "code",
   "execution_count": 70,
   "metadata": {},
   "outputs": [],
   "source": [
    "ss.reverse()"
   ]
  },
  {
   "cell_type": "code",
   "execution_count": 71,
   "metadata": {},
   "outputs": [
    {
     "name": "stdout",
     "output_type": "stream",
     "text": [
      "3\n",
      "4\n",
      "55\n",
      "5\n",
      "56\n"
     ]
    }
   ],
   "source": [
    "ss.display()"
   ]
  },
  {
   "cell_type": "code",
   "execution_count": null,
   "metadata": {},
   "outputs": [],
   "source": []
  }
 ],
 "metadata": {
  "kernelspec": {
   "display_name": "Python 3",
   "language": "python",
   "name": "python3"
  },
  "language_info": {
   "codemirror_mode": {
    "name": "ipython",
    "version": 3
   },
   "file_extension": ".py",
   "mimetype": "text/x-python",
   "name": "python",
   "nbconvert_exporter": "python",
   "pygments_lexer": "ipython3",
   "version": "3.8.3"
  }
 },
 "nbformat": 4,
 "nbformat_minor": 4
}
