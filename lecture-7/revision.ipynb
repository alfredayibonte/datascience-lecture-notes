{
 "cells": [
  {
   "cell_type": "code",
   "execution_count": 26,
   "metadata": {},
   "outputs": [],
   "source": [
    "# single linkedlist"
   ]
  },
  {
   "cell_type": "code",
   "execution_count": 7,
   "metadata": {},
   "outputs": [],
   "source": [
    "class Node():\n",
    "    def __init__(self, value):\n",
    "        self.value = value\n",
    "        self.link = None"
   ]
  },
  {
   "cell_type": "code",
   "execution_count": 216,
   "metadata": {},
   "outputs": [],
   "source": [
    "class SingleLinkedList():\n",
    "    def __init__(self):\n",
    "        self.start = None\n",
    "        \n",
    "    def display(self):\n",
    "        node = self.start\n",
    "        while node is not None:\n",
    "            print(node.value)\n",
    "            node = node.link\n",
    "            \n",
    "    def insert_at_beginning(self, value):\n",
    "        if self.start is None:\n",
    "            self.start = Node(value)\n",
    "        else:\n",
    "            temp = Node(value)\n",
    "            temp.link = self.start\n",
    "            self.start = temp\n",
    "            \n",
    "    def insert_at_end(self, value):\n",
    "        if self.start is None:\n",
    "            self.start = Node(value)\n",
    "        else:\n",
    "            node = self.start\n",
    "            while node.link is not None:\n",
    "                node = node.link\n",
    "            node.link = Node(value)\n",
    "            \n",
    "    def search(self, value):\n",
    "        if self.start is None:\n",
    "            print('list is empty')\n",
    "            return\n",
    "        node = self.start\n",
    "        while node is not None:\n",
    "            if node.value == value:\n",
    "                print(\"{} was found\".format(node.value))\n",
    "                return node\n",
    "            node = node.link\n",
    "        print('Item was not found')\n",
    "        \n",
    "    def get_node_before_node_that_has_value(self, value):\n",
    "        if self.start is None:\n",
    "            print('list is empty')\n",
    "            return\n",
    "        if self.start.link is None:\n",
    "            print('theres only one node...')\n",
    "            return\n",
    "        node = self.start\n",
    "        while node.link is not None:\n",
    "            if node.link.value == value:\n",
    "                print(\"{} was found\".format(value))\n",
    "                return node\n",
    "            node = node.link\n",
    "        print('Node wasnt found')\n",
    "        \n",
    "    def size(self):\n",
    "        count = 0\n",
    "        if self.start is None:\n",
    "            return count\n",
    "        node = self.start\n",
    "        while node is not None:\n",
    "            count += 1\n",
    "            node = node.link\n",
    "            \n",
    "        return count\n",
    "    \n",
    "    def replace_value(self, item_to_be_replaced, new_value):\n",
    "        if self.start is None:\n",
    "            print('list is empty')\n",
    "            return\n",
    "        node = self.start\n",
    "        is_changed = False\n",
    "        while node is not None:\n",
    "            if node.value == item_to_be_replaced:\n",
    "                node.value = new_value\n",
    "                is_changed = True\n",
    "                print(\"{} has been replace with {}\".format(item_to_be_replaced, new_value))\n",
    "                return node\n",
    "            node = node.link\n",
    "        if not is_changed:\n",
    "            print(\"there wasnt any replacement\")\n",
    "            \n",
    "    def delete(self, value):\n",
    "        if self.start is None:\n",
    "            print('list is empty, nothing to delete')\n",
    "            return\n",
    "        if self.start.value == value:\n",
    "            self.start = self.start.link\n",
    "            print(\"{} has been deleted. The node was only one so list is now empty\".format(value))\n",
    "            return value\n",
    "        if self.start.link is None:\n",
    "            if self.start.link.value == value:\n",
    "                self.start.link = None\n",
    "                print(\"{} has been deleted. The node was only one so list is now empty\".format(value))\n",
    "                return\n",
    "        node = self.start\n",
    "        while node.link is not None:\n",
    "            if node.link.value == value:\n",
    "                break\n",
    "            node = node.link\n",
    "        if node.link is not None:\n",
    "            node.link = node.link.link\n",
    "                \n",
    "        \n",
    "        "
   ]
  },
  {
   "cell_type": "code",
   "execution_count": 217,
   "metadata": {},
   "outputs": [],
   "source": [
    "ss = SingleLinkedList()"
   ]
  },
  {
   "cell_type": "code",
   "execution_count": 218,
   "metadata": {},
   "outputs": [],
   "source": [
    "ss.insert_at_beginning(8)"
   ]
  },
  {
   "cell_type": "code",
   "execution_count": 178,
   "metadata": {},
   "outputs": [
    {
     "name": "stdout",
     "output_type": "stream",
     "text": [
      "8\n"
     ]
    }
   ],
   "source": [
    "ss.display()"
   ]
  },
  {
   "cell_type": "code",
   "execution_count": 219,
   "metadata": {},
   "outputs": [],
   "source": [
    "ss.insert_at_beginning(12)"
   ]
  },
  {
   "cell_type": "code",
   "execution_count": 149,
   "metadata": {},
   "outputs": [
    {
     "name": "stdout",
     "output_type": "stream",
     "text": [
      "12\n",
      "8\n"
     ]
    }
   ],
   "source": [
    "ss.display()"
   ]
  },
  {
   "cell_type": "code",
   "execution_count": 220,
   "metadata": {},
   "outputs": [],
   "source": [
    "ss.insert_at_end(90)"
   ]
  },
  {
   "cell_type": "code",
   "execution_count": 87,
   "metadata": {},
   "outputs": [
    {
     "name": "stdout",
     "output_type": "stream",
     "text": [
      "12\n",
      "8\n",
      "90\n"
     ]
    }
   ],
   "source": [
    "ss.display()"
   ]
  },
  {
   "cell_type": "code",
   "execution_count": 221,
   "metadata": {},
   "outputs": [],
   "source": [
    "ss.insert_at_end(99)"
   ]
  },
  {
   "cell_type": "code",
   "execution_count": 182,
   "metadata": {},
   "outputs": [
    {
     "name": "stdout",
     "output_type": "stream",
     "text": [
      "12\n",
      "8\n",
      "90\n",
      "99\n"
     ]
    }
   ],
   "source": [
    "ss.display()"
   ]
  },
  {
   "cell_type": "code",
   "execution_count": 70,
   "metadata": {},
   "outputs": [
    {
     "name": "stdout",
     "output_type": "stream",
     "text": [
      "Item was not found\n"
     ]
    }
   ],
   "source": [
    "ss.search(21)"
   ]
  },
  {
   "cell_type": "code",
   "execution_count": 71,
   "metadata": {},
   "outputs": [
    {
     "name": "stdout",
     "output_type": "stream",
     "text": [
      "12 was found\n"
     ]
    },
    {
     "data": {
      "text/plain": [
       "<__main__.Node at 0x7f70285927f0>"
      ]
     },
     "execution_count": 71,
     "metadata": {},
     "output_type": "execute_result"
    }
   ],
   "source": [
    "ss.search(12)"
   ]
  },
  {
   "cell_type": "code",
   "execution_count": 72,
   "metadata": {},
   "outputs": [
    {
     "name": "stdout",
     "output_type": "stream",
     "text": [
      "99 was found\n"
     ]
    },
    {
     "data": {
      "text/plain": [
       "<__main__.Node at 0x7f7028592940>"
      ]
     },
     "execution_count": 72,
     "metadata": {},
     "output_type": "execute_result"
    }
   ],
   "source": [
    "ss.search(99)"
   ]
  },
  {
   "cell_type": "code",
   "execution_count": 73,
   "metadata": {},
   "outputs": [
    {
     "name": "stdout",
     "output_type": "stream",
     "text": [
      "99 was found\n"
     ]
    }
   ],
   "source": [
    "node = ss.search(99)"
   ]
  },
  {
   "cell_type": "code",
   "execution_count": 74,
   "metadata": {},
   "outputs": [
    {
     "data": {
      "text/plain": [
       "99"
      ]
     },
     "execution_count": 74,
     "metadata": {},
     "output_type": "execute_result"
    }
   ],
   "source": [
    "node.value"
   ]
  },
  {
   "cell_type": "code",
   "execution_count": 206,
   "metadata": {},
   "outputs": [
    {
     "name": "stdout",
     "output_type": "stream",
     "text": [
      "Node wasnt found\n"
     ]
    }
   ],
   "source": [
    "node = ss.get_node_before_node_that_has_value(12)"
   ]
  },
  {
   "cell_type": "code",
   "execution_count": 112,
   "metadata": {},
   "outputs": [
    {
     "name": "stdout",
     "output_type": "stream",
     "text": [
      "8 was found\n"
     ]
    }
   ],
   "source": [
    "node = ss.get_node_before_node_that_has_value(8)"
   ]
  },
  {
   "cell_type": "code",
   "execution_count": 77,
   "metadata": {},
   "outputs": [
    {
     "name": "stdout",
     "output_type": "stream",
     "text": [
      "12\n"
     ]
    }
   ],
   "source": [
    "print(node.value)"
   ]
  },
  {
   "cell_type": "code",
   "execution_count": 99,
   "metadata": {},
   "outputs": [
    {
     "name": "stdout",
     "output_type": "stream",
     "text": [
      "12\n",
      "8\n",
      "90\n",
      "99\n"
     ]
    }
   ],
   "source": [
    "ss.display()"
   ]
  },
  {
   "cell_type": "code",
   "execution_count": 100,
   "metadata": {},
   "outputs": [
    {
     "name": "stdout",
     "output_type": "stream",
     "text": [
      "4\n"
     ]
    }
   ],
   "source": [
    "print(ss.size())"
   ]
  },
  {
   "cell_type": "code",
   "execution_count": 222,
   "metadata": {},
   "outputs": [],
   "source": [
    "ss.insert_at_end(100)"
   ]
  },
  {
   "cell_type": "code",
   "execution_count": 102,
   "metadata": {},
   "outputs": [
    {
     "name": "stdout",
     "output_type": "stream",
     "text": [
      "5\n"
     ]
    }
   ],
   "source": [
    "print(ss.size())"
   ]
  },
  {
   "cell_type": "code",
   "execution_count": 154,
   "metadata": {},
   "outputs": [
    {
     "name": "stdout",
     "output_type": "stream",
     "text": [
      "12\n",
      "8\n",
      "90\n",
      "90\n",
      "99\n",
      "100\n"
     ]
    }
   ],
   "source": [
    "ss.display()"
   ]
  },
  {
   "cell_type": "code",
   "execution_count": 155,
   "metadata": {},
   "outputs": [
    {
     "name": "stdout",
     "output_type": "stream",
     "text": [
      "there wasnt any replacement\n"
     ]
    }
   ],
   "source": [
    "ss.replace_value(0, 20)"
   ]
  },
  {
   "cell_type": "code",
   "execution_count": 156,
   "metadata": {},
   "outputs": [
    {
     "name": "stdout",
     "output_type": "stream",
     "text": [
      "there wasnt any replacement\n"
     ]
    }
   ],
   "source": [
    "ss.replace_value(101, 20)"
   ]
  },
  {
   "cell_type": "code",
   "execution_count": 223,
   "metadata": {},
   "outputs": [
    {
     "name": "stdout",
     "output_type": "stream",
     "text": [
      "8 has been replace with 16\n"
     ]
    },
    {
     "data": {
      "text/plain": [
       "<__main__.Node at 0x7f7028526070>"
      ]
     },
     "execution_count": 223,
     "metadata": {},
     "output_type": "execute_result"
    }
   ],
   "source": [
    "ss.replace_value(8, 16)"
   ]
  },
  {
   "cell_type": "code",
   "execution_count": 158,
   "metadata": {},
   "outputs": [
    {
     "name": "stdout",
     "output_type": "stream",
     "text": [
      "12\n",
      "16\n",
      "90\n",
      "90\n",
      "99\n",
      "100\n"
     ]
    }
   ],
   "source": [
    "ss.display()"
   ]
  },
  {
   "cell_type": "code",
   "execution_count": 224,
   "metadata": {},
   "outputs": [
    {
     "name": "stdout",
     "output_type": "stream",
     "text": [
      "12 has been replace with 14\n"
     ]
    },
    {
     "data": {
      "text/plain": [
       "<__main__.Node at 0x7f7028526ee0>"
      ]
     },
     "execution_count": 224,
     "metadata": {},
     "output_type": "execute_result"
    }
   ],
   "source": [
    "ss.replace_value(12, 14)"
   ]
  },
  {
   "cell_type": "code",
   "execution_count": 225,
   "metadata": {},
   "outputs": [
    {
     "name": "stdout",
     "output_type": "stream",
     "text": [
      "14\n",
      "16\n",
      "90\n",
      "99\n",
      "100\n"
     ]
    }
   ],
   "source": [
    "ss.display()"
   ]
  },
  {
   "cell_type": "code",
   "execution_count": 226,
   "metadata": {},
   "outputs": [
    {
     "name": "stdout",
     "output_type": "stream",
     "text": [
      "100 has been replace with 200\n"
     ]
    },
    {
     "data": {
      "text/plain": [
       "<__main__.Node at 0x7f7028526ca0>"
      ]
     },
     "execution_count": 226,
     "metadata": {},
     "output_type": "execute_result"
    }
   ],
   "source": [
    "ss.replace_value(100, 200)"
   ]
  },
  {
   "cell_type": "code",
   "execution_count": 227,
   "metadata": {},
   "outputs": [
    {
     "name": "stdout",
     "output_type": "stream",
     "text": [
      "14\n",
      "16\n",
      "90\n",
      "99\n",
      "200\n"
     ]
    }
   ],
   "source": [
    "ss.display()"
   ]
  },
  {
   "cell_type": "code",
   "execution_count": 228,
   "metadata": {},
   "outputs": [
    {
     "name": "stdout",
     "output_type": "stream",
     "text": [
      "14 has been deleted. The node was only one so list is now empty\n"
     ]
    },
    {
     "data": {
      "text/plain": [
       "14"
      ]
     },
     "execution_count": 228,
     "metadata": {},
     "output_type": "execute_result"
    }
   ],
   "source": [
    "ss.delete(14)"
   ]
  },
  {
   "cell_type": "code",
   "execution_count": 229,
   "metadata": {},
   "outputs": [
    {
     "name": "stdout",
     "output_type": "stream",
     "text": [
      "16\n",
      "90\n",
      "99\n",
      "200\n"
     ]
    }
   ],
   "source": [
    "ss.display()"
   ]
  },
  {
   "cell_type": "code",
   "execution_count": 230,
   "metadata": {},
   "outputs": [
    {
     "data": {
      "text/plain": [
       "4"
      ]
     },
     "execution_count": 230,
     "metadata": {},
     "output_type": "execute_result"
    }
   ],
   "source": [
    "ss.size()"
   ]
  },
  {
   "cell_type": "code",
   "execution_count": 231,
   "metadata": {},
   "outputs": [],
   "source": [
    "ss.delete(200)"
   ]
  },
  {
   "cell_type": "code",
   "execution_count": 232,
   "metadata": {},
   "outputs": [
    {
     "name": "stdout",
     "output_type": "stream",
     "text": [
      "16\n",
      "90\n",
      "99\n"
     ]
    }
   ],
   "source": [
    "ss.display()"
   ]
  },
  {
   "cell_type": "code",
   "execution_count": 233,
   "metadata": {},
   "outputs": [
    {
     "data": {
      "text/plain": [
       "3"
      ]
     },
     "execution_count": 233,
     "metadata": {},
     "output_type": "execute_result"
    }
   ],
   "source": [
    "ss.size()"
   ]
  },
  {
   "cell_type": "code",
   "execution_count": 234,
   "metadata": {},
   "outputs": [],
   "source": [
    "ss.delete(3)"
   ]
  },
  {
   "cell_type": "code",
   "execution_count": 235,
   "metadata": {},
   "outputs": [
    {
     "name": "stdout",
     "output_type": "stream",
     "text": [
      "16\n",
      "90\n",
      "99\n"
     ]
    }
   ],
   "source": [
    "ss.display()"
   ]
  },
  {
   "cell_type": "code",
   "execution_count": 236,
   "metadata": {},
   "outputs": [],
   "source": [
    "ss.delete(90)"
   ]
  },
  {
   "cell_type": "code",
   "execution_count": 237,
   "metadata": {},
   "outputs": [
    {
     "name": "stdout",
     "output_type": "stream",
     "text": [
      "16\n",
      "99\n"
     ]
    }
   ],
   "source": [
    "ss.display()"
   ]
  },
  {
   "cell_type": "code",
   "execution_count": 238,
   "metadata": {},
   "outputs": [],
   "source": [
    "ss.insert_at_end(200)"
   ]
  },
  {
   "cell_type": "code",
   "execution_count": 239,
   "metadata": {},
   "outputs": [
    {
     "name": "stdout",
     "output_type": "stream",
     "text": [
      "16\n",
      "99\n",
      "200\n"
     ]
    }
   ],
   "source": [
    "ss.display()"
   ]
  },
  {
   "cell_type": "code",
   "execution_count": null,
   "metadata": {},
   "outputs": [],
   "source": []
  }
 ],
 "metadata": {
  "kernelspec": {
   "display_name": "Python 3",
   "language": "python",
   "name": "python3"
  },
  "language_info": {
   "codemirror_mode": {
    "name": "ipython",
    "version": 3
   },
   "file_extension": ".py",
   "mimetype": "text/x-python",
   "name": "python",
   "nbconvert_exporter": "python",
   "pygments_lexer": "ipython3",
   "version": "3.8.3"
  }
 },
 "nbformat": 4,
 "nbformat_minor": 4
}
